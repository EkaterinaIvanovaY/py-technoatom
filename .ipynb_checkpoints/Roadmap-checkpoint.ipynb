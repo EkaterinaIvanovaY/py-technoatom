{
 "cells": [
  {
   "cell_type": "code",
   "execution_count": 1,
   "metadata": {
    "collapsed": true
   },
   "outputs": [],
   "source": [
    "class Roadmap:\n",
    "    def __init__(self,_tasks = []):\n",
    "        self.tasks = _tasks\n",
    "        \n",
    "    today = property()\n",
    "    @today.getter\n",
    "    def today(self):\n",
    "        today_tasks = []\n",
    "        for task in self.tasks:\n",
    "            if task.estimate == datetime.date.today():\n",
    "                today_tasks.append(task.title)\n",
    "        return today_tasks\n",
    "        \n",
    "    def filter(self,state):\n",
    "        if type(state)!=type(''): \n",
    "            raise TypeError('Incorrect type of state: ' + str(type(state)))\n",
    "        if state != 'in_progress' and state != 'ready': \n",
    "            raise ValueError('Incorrect value of state: ' + str(state)) \n",
    "        state_tasks = []\n",
    "        for task in self.tasks:\n",
    "            if state == task.state:\n",
    "                state_tasks.append(task.title)\n",
    "        return state_tasks"
   ]
  },
  {
   "cell_type": "code",
   "execution_count": null,
   "metadata": {
    "collapsed": true
   },
   "outputs": [],
   "source": []
  }
 ],
 "metadata": {
  "anaconda-cloud": {},
  "kernelspec": {
   "display_name": "Python [Root]",
   "language": "python",
   "name": "Python [Root]"
  },
  "language_info": {
   "codemirror_mode": {
    "name": "ipython",
    "version": 3
   },
   "file_extension": ".py",
   "mimetype": "text/x-python",
   "name": "python",
   "nbconvert_exporter": "python",
   "pygments_lexer": "ipython3",
   "version": "3.5.2"
  }
 },
 "nbformat": 4,
 "nbformat_minor": 0
}

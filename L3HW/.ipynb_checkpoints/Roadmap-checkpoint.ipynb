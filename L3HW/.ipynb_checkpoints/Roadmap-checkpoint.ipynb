{
 "cells": [
  {
   "cell_type": "markdown",
   "metadata": {},
   "source": [
    "## Опишем класс Task"
   ]
  },
  {
   "cell_type": "code",
   "execution_count": 1,
   "metadata": {
    "collapsed": false
   },
   "outputs": [],
   "source": [
    "import datetime\n",
    "class Task:\n",
    "    def __init__(self,_title, _estimate, _state='in_progress'):\n",
    "            if type(_title) != type(''):\n",
    "                raise TypeError('Incorrect type of title: '+type(_title))\n",
    "            if type(_estimate) != type(datetime.date.today()):\n",
    "                raise TypeError('Incorrect type of estimate: ' + type(_estimate))\n",
    "            if type(_state)!=type(''):\n",
    "                raise TypeError('Incorrect type of state: '+type(_state))\n",
    "            if (_state!='in_progress') and (_state!='ready'):\n",
    "                raise ValueError('Incorrect state')\n",
    "                \n",
    "            self.title = _title\n",
    "            self.estimate=_estimate\n",
    "            self.state = _state\n",
    "\n",
    "    remaning = property()\n",
    "    @remaning.getter\n",
    "    def remaning(self):\n",
    "        date = datetime.date.today()\n",
    "        delta = self.estimate - date\n",
    "        return datetime.timedelta(days = delta.days)\n",
    "\n",
    "    is_failed=property()\n",
    "    @is_failed.getter\n",
    "    def is_failed(self):\n",
    "        date = datetime.date.today()\n",
    "        if (self.state=='in_progress') and  (self.estimate<date):\n",
    "            return True\n",
    "        else:\n",
    "            return False\n",
    "\n",
    "    def ready(self):\n",
    "        if self.state=='in_progress': self.state='ready' "
   ]
  },
  {
   "cell_type": "markdown",
   "metadata": {},
   "source": [
    "## Опишем класс Roadmap"
   ]
  },
  {
   "cell_type": "code",
   "execution_count": 2,
   "metadata": {
    "collapsed": false
   },
   "outputs": [],
   "source": [
    "class Roadmap:\n",
    "    def __init__(self,_tasks = []):\n",
    "        self.tasks = _tasks\n",
    "        \n",
    "    today = property()\n",
    "    @today.getter\n",
    "    def today(self):\n",
    "        today_tasks = []\n",
    "        for task in self.tasks:\n",
    "            if task.estimate == datetime.date.today():\n",
    "                today_tasks.append(task.title)\n",
    "        return today_tasks\n",
    "        \n",
    "    def filter(self,state):\n",
    "        if type(state)!=type(''): \n",
    "            raise TypeError('Incorrect type of state: ' + str(type(state)))\n",
    "        if state != 'in_progress' and state != 'ready': \n",
    "            raise ValueError('Incorrect value of state: ' + str(state)) \n",
    "        state_tasks = []\n",
    "        for task in self.tasks:\n",
    "            if state == task.state:\n",
    "                state_tasks.append(task.title)\n",
    "        return state_tasks"
   ]
  },
  {
   "cell_type": "markdown",
   "metadata": {},
   "source": [
    "## Загрузим dataset.yml"
   ]
  },
  {
   "cell_type": "code",
   "execution_count": 3,
   "metadata": {
    "collapsed": false
   },
   "outputs": [
    {
     "data": {
      "text/plain": [
       "[['Заказать книги', 'ready', datetime.date(2017, 3, 12)],\n",
       " ['Записаться на python-митап', 'in_progress', datetime.date(2017, 3, 25)],\n",
       " ['Починить подтекающий кран', 'in_progress', datetime.date(2015, 6, 18)],\n",
       " ['Сделать домашнее задание', 'in_progress', datetime.date(2017, 4, 5)],\n",
       " ['Повесить картину', 'ready', datetime.date(2016, 12, 30)],\n",
       " ['Позвонить в деканат', 'in_progress', datetime.date(2017, 4, 10)],\n",
       " ['Дописать курсовую работу', 'in_progress', datetime.date(2017, 6, 1)],\n",
       " ['Выбросить мусор', 'in_progress', datetime.date(2017, 3, 28)],\n",
       " ['Купить билеты в Таиланд', 'in_progress', datetime.date(2017, 6, 4)],\n",
       " ['Опубликовать резюме', 'in_progress', datetime.date(2017, 5, 24)]]"
      ]
     },
     "execution_count": 3,
     "metadata": {},
     "output_type": "execute_result"
    }
   ],
   "source": [
    "from yaml import load\n",
    "try:\n",
    "    from yaml import CLoader as Loader\n",
    "except ImportError:\n",
    "    from yaml import Loader\n",
    "\n",
    "def get_dataset():\n",
    "    with open(\"dataset.yml\", 'rt', encoding='utf-8') as input:\n",
    "        package = load(input, Loader=Loader)\n",
    "        dataset = package.get('dataset')\n",
    "        if not isinstance(dataset, list):\n",
    "            raise ValueError('wrong format')\n",
    "        yield from dataset\n",
    "dataset=list(get_dataset())\n",
    "dataset"
   ]
  },
  {
   "cell_type": "markdown",
   "metadata": {
    "collapsed": true
   },
   "source": [
    "## Посмотрим задачи на сегодня и применим метод filter"
   ]
  },
  {
   "cell_type": "code",
   "execution_count": 4,
   "metadata": {
    "collapsed": false
   },
   "outputs": [],
   "source": [
    "tasks = []\n",
    "for data in dataset:\n",
    "    _task=Task(data[0],data[2],data[1])\n",
    "    tasks.append(_task)"
   ]
  },
  {
   "cell_type": "code",
   "execution_count": 6,
   "metadata": {
    "collapsed": false
   },
   "outputs": [
    {
     "data": {
      "text/plain": [
       "['Заказать книги', 'Повесить картину']"
      ]
     },
     "execution_count": 6,
     "metadata": {},
     "output_type": "execute_result"
    }
   ],
   "source": [
    "road = Roadmap(tasks)\n",
    "road.filter('ready')"
   ]
  },
  {
   "cell_type": "code",
   "execution_count": 7,
   "metadata": {
    "collapsed": false
   },
   "outputs": [
    {
     "data": {
      "text/plain": [
       "[]"
      ]
     },
     "execution_count": 7,
     "metadata": {},
     "output_type": "execute_result"
    }
   ],
   "source": [
    "road.today"
   ]
  },
  {
   "cell_type": "code",
   "execution_count": null,
   "metadata": {
    "collapsed": true
   },
   "outputs": [],
   "source": []
  }
 ],
 "metadata": {
  "anaconda-cloud": {},
  "kernelspec": {
   "display_name": "Python [Root]",
   "language": "python",
   "name": "Python [Root]"
  },
  "language_info": {
   "codemirror_mode": {
    "name": "ipython",
    "version": 3
   },
   "file_extension": ".py",
   "mimetype": "text/x-python",
   "name": "python",
   "nbconvert_exporter": "python",
   "pygments_lexer": "ipython3",
   "version": "3.5.2"
  }
 },
 "nbformat": 4,
 "nbformat_minor": 0
}

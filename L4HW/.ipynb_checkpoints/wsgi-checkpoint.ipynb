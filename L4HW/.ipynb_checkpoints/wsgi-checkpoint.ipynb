{
 "cells": [
  {
   "cell_type": "markdown",
   "metadata": {},
   "source": [
    "## Опишем класс Task"
   ]
  },
  {
   "cell_type": "code",
   "execution_count": 22,
   "metadata": {
    "collapsed": false
   },
   "outputs": [],
   "source": [
    "import datetime\n",
    "class Task:\n",
    "    def __init__(self,_title, _estimate, _state='in_progress'):\n",
    "            if type(_title) != type(''):\n",
    "                raise TypeError('Incorrect type of title: '+type(_title))\n",
    "            if type(_estimate) != type(datetime.date.today()):\n",
    "                raise TypeError('Incorrect type of estimate: ' + type(_estimate))\n",
    "            if type(_state)!=type(''):\n",
    "                raise TypeError('Incorrect type of state: '+type(_state))\n",
    "            if (_state!='in_progress') and (_state!='ready'):\n",
    "                raise ValueError('Incorrect state')\n",
    "                \n",
    "            self.title = _title\n",
    "            self.estimate=_estimate\n",
    "            self.state = _state\n",
    "\n",
    "    remaning = property()\n",
    "    @remaning.getter\n",
    "    def remaning(self):\n",
    "        date = datetime.date.today()\n",
    "        delta = self.estimate - date\n",
    "        return datetime.timedelta(days = delta.days)\n",
    "\n",
    "    is_failed=property()\n",
    "    @is_failed.getter\n",
    "    def is_failed(self):\n",
    "        date = datetime.date.today()\n",
    "        if (self.state=='in_progress') and  (self.estimate<date):\n",
    "            return True\n",
    "        else:\n",
    "            return False\n",
    "\n",
    "    def ready(self):\n",
    "        if self.state=='in_progress': \n",
    "            self.state='ready' "
   ]
  },
  {
   "cell_type": "markdown",
   "metadata": {},
   "source": [
    "## Выгрузим dataset.yml и запишем полученные экземпляры в tasks"
   ]
  },
  {
   "cell_type": "code",
   "execution_count": 23,
   "metadata": {
    "collapsed": false
   },
   "outputs": [],
   "source": [
    "from yaml import load\n",
    "try:\n",
    "    from yaml import CLoader as Loader\n",
    "except ImportError:\n",
    "    from yaml import Loader\n",
    "\n",
    "def get_dataset():\n",
    "    with open(\"dataset.yml\", 'rt', encoding='utf-8') as input:\n",
    "        package = load(input, Loader=Loader)\n",
    "        dataset = package.get('dataset')\n",
    "        if not isinstance(dataset, list):\n",
    "            raise ValueError('wrong format')\n",
    "        yield from dataset\n",
    "dataset=list(get_dataset())"
   ]
  },
  {
   "cell_type": "markdown",
   "metadata": {},
   "source": [
    "## WSGI"
   ]
  },
  {
   "cell_type": "code",
   "execution_count": 39,
   "metadata": {
    "collapsed": true
   },
   "outputs": [],
   "source": [
    "from urllib.parse import parse_qs\n",
    "\n",
    "class WSGIApplication(object):\n",
    "\n",
    "    default_headers = [\n",
    "        ('Content-Type', 'text/html'),\n",
    "        ('Server', 'WSGIExample/1.0'),\n",
    "    ]\n",
    "\n",
    "    def __init__(self, environment, start_response_callback):\n",
    "        self.environment = environment\n",
    "        self.start_response = start_response_callback\n",
    "\n",
    "    def __iter__(self):\n",
    "        greetings = ''\n",
    "        self.start_response('200 OK', self.default_headers)\n",
    "        \n",
    "        date = datetime.date.today()\n",
    "        for data in dataset:\n",
    "            task=Task(data[0],data[2],data[1])\n",
    "            if task.remaning<datetime.timedelta(days=3) and task.state=='in_progress':\n",
    "                greetings = greetings+task.title+'\\n'\n",
    "                \n",
    "        yield greetings.encode('utf-8')"
   ]
  },
  {
   "cell_type": "code",
   "execution_count": 40,
   "metadata": {
    "collapsed": false
   },
   "outputs": [
    {
     "name": "stderr",
     "output_type": "stream",
     "text": [
      "127.0.0.1 - - [26/Mar/2017 17:49:22] \"GET /favicon.ico HTTP/1.1\" 200 123\n"
     ]
    }
   ],
   "source": [
    "from wsgiref.simple_server import make_server\n",
    "\n",
    "http_server = make_server('127.0.0.1', 9090, WSGIApplication)\n",
    "http_server.handle_request()"
   ]
  }
 ],
 "metadata": {
  "kernelspec": {
   "display_name": "Python [Root]",
   "language": "python",
   "name": "Python [Root]"
  },
  "language_info": {
   "codemirror_mode": {
    "name": "ipython",
    "version": 3
   },
   "file_extension": ".py",
   "mimetype": "text/x-python",
   "name": "python",
   "nbconvert_exporter": "python",
   "pygments_lexer": "ipython3",
   "version": "3.5.2"
  }
 },
 "nbformat": 4,
 "nbformat_minor": 0
}

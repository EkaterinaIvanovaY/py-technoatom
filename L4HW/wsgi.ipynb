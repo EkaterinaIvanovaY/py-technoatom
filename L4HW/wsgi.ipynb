{
 "cells": [
  {
   "cell_type": "code",
   "execution_count": null,
   "metadata": {
    "collapsed": false
   },
   "outputs": [],
   "source": [
    "import datetime\n",
    "class Task:\n",
    "    def __init__(self,_title, _estimate, _state='in_progress'):\n",
    "            if type(_title) != type(''):\n",
    "                raise TypeError('Incorrect type of title: '+type(_title))\n",
    "            if type(_estimate) != type(datetime.date.today()):\n",
    "                raise TypeError('Incorrect type of estimate: ' + type(_estimate))\n",
    "            if type(_state)!=type(''):\n",
    "                raise TypeError('Incorrect type of state: '+type(_state))\n",
    "            if (_state!='in_progress') and (_state!='ready'):\n",
    "                raise ValueError('Incorrect state')\n",
    "                \n",
    "            self.title = _title\n",
    "            self.estimate=_estimate\n",
    "            self.state = _state\n",
    "\n",
    "    remaning = property()\n",
    "    @remaning.getter\n",
    "    def remaning(self):\n",
    "        date = datetime.date.today()\n",
    "        delta = self.estimate - date\n",
    "        return datetime.timedelta(days = delta.days)\n",
    "\n",
    "    is_failed=property()\n",
    "    @is_failed.getter\n",
    "    def is_failed(self):\n",
    "        date = datetime.date.today()\n",
    "        if (self.state=='in_progress') and  (self.estimate<date):\n",
    "            return True\n",
    "        else:\n",
    "            return False\n",
    "\n",
    "    def ready(self):\n",
    "        if self.state=='in_progress': \n",
    "            self.state='ready' "
   ]
  },
  {
   "cell_type": "code",
   "execution_count": null,
   "metadata": {
    "collapsed": false
   },
   "outputs": [],
   "source": [
    "from yaml import load\n",
    "try:\n",
    "    from yaml import CLoader as Loader\n",
    "except ImportError:\n",
    "    from yaml import Loader\n",
    "\n",
    "def get_dataset():\n",
    "    with open(\"dataset.yml\", 'rt', encoding='utf-8') as input:\n",
    "        package = load(input, Loader=Loader)\n",
    "        dataset = package.get('dataset')\n",
    "        if not isinstance(dataset, list):\n",
    "            raise ValueError('wrong format')\n",
    "        yield from dataset\n",
    "dataset=list(get_dataset())"
   ]
  },
  {
   "cell_type": "code",
   "execution_count": null,
   "metadata": {
    "collapsed": true
   },
   "outputs": [],
   "source": []
  }
 ],
 "metadata": {
  "kernelspec": {
   "display_name": "Python [Root]",
   "language": "python",
   "name": "Python [Root]"
  },
  "language_info": {
   "codemirror_mode": {
    "name": "ipython",
    "version": 3
   },
   "file_extension": ".py",
   "mimetype": "text/x-python",
   "name": "python",
   "nbconvert_exporter": "python",
   "pygments_lexer": "ipython3",
   "version": "3.5.2"
  }
 },
 "nbformat": 4,
 "nbformat_minor": 0
}
